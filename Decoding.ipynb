{
 "cells": [
  {
   "cell_type": "code",
   "execution_count": 1,
   "metadata": {},
   "outputs": [],
   "source": [
    "%load_ext autoreload\n",
    "%autoreload 2"
   ]
  },
  {
   "cell_type": "code",
   "execution_count": 2,
   "metadata": {},
   "outputs": [],
   "source": [
    "import numpy as np \n",
    "from stabilizer import *\n"
   ]
  },
  {
   "cell_type": "code",
   "execution_count": 160,
   "metadata": {},
   "outputs": [
    {
     "data": {
      "text/plain": [
       "['III', 'XII', 'IXI', 'XXI', 'IIX', 'XIX', 'IXX', 'XXX']"
      ]
     },
     "execution_count": 160,
     "metadata": {},
     "output_type": "execute_result"
    }
   ],
   "source": [
    "construct_list_errors(3)"
   ]
  },
  {
   "cell_type": "code",
   "execution_count": 187,
   "metadata": {},
   "outputs": [
    {
     "data": {
      "text/plain": [
       "['IIII',\n",
       " 'XIII',\n",
       " 'IXII',\n",
       " 'XXII',\n",
       " 'IIXI',\n",
       " 'XIXI',\n",
       " 'IXXI',\n",
       " 'XXXI',\n",
       " 'IIIX',\n",
       " 'XIIX',\n",
       " 'IXIX',\n",
       " 'XXIX',\n",
       " 'IIXX',\n",
       " 'XIXX',\n",
       " 'IXXX']"
      ]
     },
     "execution_count": 187,
     "metadata": {},
     "output_type": "execute_result"
    }
   ],
   "source": [
    "construct_list_errors(4,3)"
   ]
  },
  {
   "cell_type": "code",
   "execution_count": 155,
   "metadata": {},
   "outputs": [
    {
     "name": "stdout",
     "output_type": "stream",
     "text": [
      "['III', 'XII', 'IXI', 'XXI', 'IIX', 'XIX', 'IXX', 'XXX']\n"
     ]
    }
   ],
   "source": [
    "print(recovery_operations(3))"
   ]
  },
  {
   "cell_type": "code",
   "execution_count": 188,
   "metadata": {},
   "outputs": [
    {
     "name": "stdout",
     "output_type": "stream",
     "text": [
      "{'III': 0.343, 'XII': 0.147, 'IXI': 0.147, 'XXI': 0.063, 'IIX': 0.147, 'XIX': 0.063, 'IXX': 0.063, 'XXX': 0.027}\n"
     ]
    }
   ],
   "source": [
    "print(recovery_probabilities(recovery_operations(3), 0.3))"
   ]
  },
  {
   "cell_type": "code",
   "execution_count": 179,
   "metadata": {},
   "outputs": [
    {
     "name": "stdout",
     "output_type": "stream",
     "text": [
      "100\n",
      "001\n"
     ]
    }
   ],
   "source": [
    "initial = '100'\n",
    "state = apply_error_recovery(initial, 'XIX')\n",
    "print(initial)\n",
    "print(state)"
   ]
  },
  {
   "cell_type": "code",
   "execution_count": 10,
   "metadata": {},
   "outputs": [
    {
     "name": "stdout",
     "output_type": "stream",
     "text": [
      "{'XIIXII': 0.02074, 'IXXIXX': 0.00922}\n",
      "{'XXI': 0.096, 'IIX': 0.144}\n",
      "1.096\n"
     ]
    }
   ],
   "source": [
    "print(recovery('100000', 'XIIXII', 0.4))\n",
    "\n",
    "print(recovery('100', 'XXI', 0.4))\n",
    "x = recovery('100', 'XXI', 0.4)\n",
    "print(x['XXI'] )"
   ]
  },
  {
   "cell_type": "markdown",
   "metadata": {},
   "source": []
  },
  {
   "cell_type": "code",
   "execution_count": null,
   "metadata": {},
   "outputs": [],
   "source": []
  },
  {
   "cell_type": "markdown",
   "metadata": {},
   "source": []
  },
  {
   "cell_type": "code",
   "execution_count": 193,
   "metadata": {},
   "outputs": [
    {
     "name": "stdout",
     "output_type": "stream",
     "text": [
      "+---------+------------+\n",
      "| Error   | Recovery   |\n",
      "+=========+============+\n",
      "| IIIII   | IIIII      |\n",
      "+---------+------------+\n",
      "| XIIII   | XIIII      |\n",
      "+---------+------------+\n",
      "| IXIII   | IXIII      |\n",
      "+---------+------------+\n",
      "| IIXII   | IIXII      |\n",
      "+---------+------------+\n",
      "| IIIXI   | IIIXI      |\n",
      "+---------+------------+\n",
      "| IIIIX   | IIIIX      |\n",
      "+---------+------------+\n"
     ]
    }
   ],
   "source": [
    "print_table(table_of_errors('10000'))\n"
   ]
  },
  {
   "cell_type": "code",
   "execution_count": 194,
   "metadata": {},
   "outputs": [
    {
     "name": "stdout",
     "output_type": "stream",
     "text": [
      "+---------+------------+\n",
      "| Error   | Recovery   |\n",
      "+=========+============+\n",
      "| III     | III        |\n",
      "+---------+------------+\n",
      "| XII     | XII        |\n",
      "+---------+------------+\n",
      "| IXI     | IXI        |\n",
      "+---------+------------+\n",
      "| IIX     | IIX        |\n",
      "+---------+------------+\n"
     ]
    }
   ],
   "source": [
    "print_table(table_of_errors('100'))"
   ]
  },
  {
   "cell_type": "code",
   "execution_count": null,
   "metadata": {},
   "outputs": [],
   "source": []
  }
 ],
 "metadata": {
  "kernelspec": {
   "display_name": "qc-env",
   "language": "python",
   "name": "python3"
  },
  "language_info": {
   "codemirror_mode": {
    "name": "ipython",
    "version": 3
   },
   "file_extension": ".py",
   "mimetype": "text/x-python",
   "name": "python",
   "nbconvert_exporter": "python",
   "pygments_lexer": "ipython3",
   "version": "3.8.5"
  },
  "orig_nbformat": 4
 },
 "nbformat": 4,
 "nbformat_minor": 2
}
