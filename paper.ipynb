{
 "cells": [
  {
   "cell_type": "code",
   "execution_count": 1,
   "metadata": {},
   "outputs": [
    {
     "name": "stdout",
     "output_type": "stream",
     "text": [
      "           ┌───┐\n",
      "q0_0: ──■──┤ X ├\n",
      "      ┌─┴─┐└───┘\n",
      "q0_1: ┤ X ├─────\n",
      "      ├───┤     \n",
      "q0_2: ┤ X ├─────\n",
      "      └───┘     \n"
     ]
    }
   ],
   "source": [
    "from qiskit import *\n",
    "import numpy as np \n",
    "from stabilizer import *\n",
    "import matplotlib.pyplot as plt\n",
    "cq = QuantumRegister(3)\n",
    "qc = QuantumCircuit(cq)\n",
    "qc.cx(cq[0],cq[1])\n",
    "qc.x(0)\n",
    "qc.x(2)\n",
    "print(qc)"
   ]
  },
  {
   "cell_type": "code",
   "execution_count": 2,
   "metadata": {},
   "outputs": [
    {
     "name": "stdout",
     "output_type": "stream",
     "text": [
      "                \n",
      "q1_0: ──■────■──\n",
      "      ┌─┴─┐  │  \n",
      "q1_1: ┤ X ├──┼──\n",
      "      └───┘┌─┴─┐\n",
      "q1_2: ─────┤ X ├\n",
      "           └───┘\n"
     ]
    }
   ],
   "source": [
    "cq = QuantumRegister(3)\n",
    "qc = QuantumCircuit(cq)\n",
    "qc.cx(cq[0],cq[1])\n",
    "qc.cx(cq[0],cq[2])\n",
    "print(qc)"
   ]
  },
  {
   "cell_type": "code",
   "execution_count": 5,
   "metadata": {},
   "outputs": [
    {
     "name": "stdout",
     "output_type": "stream",
     "text": [
      "['ZZI-', 'IIZ-'] ['XXI+', 'ZII-'] ['101', '011']\n"
     ]
    },
    {
     "data": {
      "text/plain": [
       "([-1, -1], [-1, -1])"
      ]
     },
     "execution_count": 5,
     "metadata": {},
     "output_type": "execute_result"
    }
   ],
   "source": [
    "gates = [('CX', (0,1)),('X', (0,)),('X', (2,))]\n",
    "initial = ['000', '100']\n",
    "log = ['XII+', 'ZII+']\n",
    "stabs = ['IZI+', 'IIZ+']\n",
    "codewords = find_codewords(initial, gates)\n",
    "newlogs = evolve_operators(log, gates)\n",
    "new_stabs = evolve_operators(stabs, gates)\n",
    "print(new_stabs, newlogs, codewords)\n",
    "measure_stabilizers(new_stabs, codewords[0]), measure_stabilizers(new_stabs, codewords[1])\n"
   ]
  },
  {
   "cell_type": "code",
   "execution_count": null,
   "metadata": {},
   "outputs": [],
   "source": []
  }
 ],
 "metadata": {
  "kernelspec": {
   "display_name": "qc-env",
   "language": "python",
   "name": "python3"
  },
  "language_info": {
   "codemirror_mode": {
    "name": "ipython",
    "version": 3
   },
   "file_extension": ".py",
   "mimetype": "text/x-python",
   "name": "python",
   "nbconvert_exporter": "python",
   "pygments_lexer": "ipython3",
   "version": "3.8.5"
  }
 },
 "nbformat": 4,
 "nbformat_minor": 2
}
