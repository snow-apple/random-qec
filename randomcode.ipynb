{
 "cells": [
  {
   "cell_type": "code",
   "execution_count": 1,
   "metadata": {},
   "outputs": [],
   "source": [
    "%load_ext autoreload\n",
    "%autoreload 2"
   ]
  },
  {
   "cell_type": "code",
   "execution_count": 2,
   "metadata": {},
   "outputs": [],
   "source": [
    "import numpy as np \n",
    "from stabilizer import *\n",
    "import matplotlib.pyplot as plt"
   ]
  },
  {
   "cell_type": "code",
   "execution_count": 2,
   "metadata": {},
   "outputs": [
    {
     "data": {
      "text/plain": [
       "(['101', '001'], [('X', (2,)), ('CX', (2, 1)), ('CX', (2, 1)), ('CX', (2, 0))])"
      ]
     },
     "execution_count": 2,
     "metadata": {},
     "output_type": "execute_result"
    }
   ],
   "source": [
    "gates = randcircuit(3,4)\n",
    "initial = ['000', '100']\n",
    "codewords = find_codewords(initial, gates)\n",
    "codewords, gates"
   ]
  },
  {
   "cell_type": "code",
   "execution_count": 3,
   "metadata": {},
   "outputs": [
    {
     "data": {
      "text/plain": [
       "(['XII+', 'ZIZ+'], ['IZI+', 'IIZ-'])"
      ]
     },
     "execution_count": 3,
     "metadata": {},
     "output_type": "execute_result"
    }
   ],
   "source": [
    "log = ['XII+', 'ZII+']\n",
    "stabs = ['IZI+', 'IIZ+']\n",
    "new_logs = evolve_operators(log, gates)\n",
    "new_stabs = evolve_operators(stabs, gates)\n",
    "new_logs, new_stabs"
   ]
  },
  {
   "cell_type": "code",
   "execution_count": 4,
   "metadata": {},
   "outputs": [
    {
     "data": {
      "text/plain": [
       "[('X', (2,)), ('CX', (2, 1)), ('CX', (2, 1)), ('CX', (2, 0))]"
      ]
     },
     "execution_count": 4,
     "metadata": {},
     "output_type": "execute_result"
    }
   ],
   "source": [
    "gates"
   ]
  },
  {
   "cell_type": "code",
   "execution_count": 5,
   "metadata": {},
   "outputs": [],
   "source": [
    "x = []\n",
    "y = []\n"
   ]
  },
  {
   "cell_type": "code",
   "execution_count": 7,
   "metadata": {},
   "outputs": [
    {
     "ename": "NameError",
     "evalue": "name 'x' is not defined",
     "output_type": "error",
     "traceback": [
      "\u001b[0;31m---------------------------------------------------------------------------\u001b[0m",
      "\u001b[0;31mNameError\u001b[0m                                 Traceback (most recent call last)",
      "\u001b[0;32m<ipython-input-7-c5e5d3bcc939>\u001b[0m in \u001b[0;36m<module>\u001b[0;34m\u001b[0m\n\u001b[1;32m     11\u001b[0m \u001b[0;34m\u001b[0m\u001b[0m\n\u001b[1;32m     12\u001b[0m \u001b[0;32mfor\u001b[0m \u001b[0mi\u001b[0m \u001b[0;32min\u001b[0m \u001b[0mrange\u001b[0m\u001b[0;34m(\u001b[0m\u001b[0;36m11\u001b[0m\u001b[0;34m)\u001b[0m\u001b[0;34m:\u001b[0m\u001b[0;34m\u001b[0m\u001b[0;34m\u001b[0m\u001b[0m\n\u001b[0;32m---> 13\u001b[0;31m     \u001b[0mx\u001b[0m\u001b[0;34m.\u001b[0m\u001b[0mappend\u001b[0m\u001b[0;34m(\u001b[0m\u001b[0mi\u001b[0m\u001b[0;34m/\u001b[0m\u001b[0;36m10\u001b[0m\u001b[0;34m)\u001b[0m\u001b[0;34m\u001b[0m\u001b[0;34m\u001b[0m\u001b[0m\n\u001b[0m\u001b[1;32m     14\u001b[0m \u001b[0;34m\u001b[0m\u001b[0m\n\u001b[1;32m     15\u001b[0m     \u001b[0;31m#make lists of error, prob of error, and stabilizer measurements\u001b[0m\u001b[0;34m\u001b[0m\u001b[0;34m\u001b[0m\u001b[0;34m\u001b[0m\u001b[0m\n",
      "\u001b[0;31mNameError\u001b[0m: name 'x' is not defined"
     ]
    }
   ],
   "source": [
    "# gates[0][1][1]\n",
    "gates = randcircuit(3,4)\n",
    "initial = ['000', '100']\n",
    "log = ['XII+', 'ZII+']\n",
    "stabs = ['IZI+', 'IIZ+']\n",
    "\n",
    "codewords = find_codewords(initial, gates)\n",
    "# codewords\n",
    "newstabilizers = (evolve_stabilizers(stabs, gates, log))[0]\n",
    "\n",
    "\n",
    "for i in range(11):\n",
    "    x.append(i/10)\n",
    "\n",
    "    #make lists of error, prob of error, and stabilizer measurements\n",
    "    errors = construct_list_errors(3,3)\n",
    "    table = []\n",
    "    for error in errors:\n",
    "        errorstate = apply_error_recovery(codewords[0], error)\n",
    "        result = measure_stabilizers(newstabilizers, errorstate)\n",
    "        prob = single_recovery_probability(error, i/10)\n",
    "        table.append([error, prob, result])\n",
    "        \n",
    "\n",
    "    #sort list in order of prob\n",
    "    def func(e):\n",
    "        return e[1]\n",
    "    table.sort(key=func)\n",
    "\n",
    "\n",
    "    #sum the first half of prob to find logical error rate \n",
    "    sum = 0\n",
    "    for i in range(4):\n",
    "        sum+= table[i][1]\n",
    "    y.append(sum)\n"
   ]
  },
  {
   "cell_type": "code",
   "execution_count": 7,
   "metadata": {},
   "outputs": [
    {
     "data": {
      "text/plain": [
       "[<matplotlib.lines.Line2D at 0x7f7c70c79bb0>]"
      ]
     },
     "execution_count": 7,
     "metadata": {},
     "output_type": "execute_result"
    },
    {
     "data": {
      "image/png": "[encoded data removed]",
      "text/plain": [
       "<Figure size 432x288 with 1 Axes>"
      ]
     },
     "metadata": {
      "needs_background": "light"
     },
     "output_type": "display_data"
    }
   ],
   "source": [
    "plt.plot(x,y)\n",
    "\n"
   ]
  },
  {
   "cell_type": "code",
   "execution_count": 3,
   "metadata": {},
   "outputs": [
    {
     "data": {
      "text/plain": [
       "(['000', '111'], ['XXX+', 'ZII+'])"
      ]
     },
     "execution_count": 3,
     "metadata": {},
     "output_type": "execute_result"
    }
   ],
   "source": [
    "\n",
    "gates = [('CX', (0, 1)), ('CX', (0, 2))]\n",
    "initial = ['000', '100']\n",
    "log = ['XII+', 'ZII+']\n",
    "stabs = ['IZI+', 'IIZ+']\n",
    "codewords = find_codewords(initial, gates)\n",
    "newlogs = evolve_operators(log, gates)\n",
    "\n",
    "codewords, newlogs"
   ]
  },
  {
   "cell_type": "code",
   "execution_count": 10,
   "metadata": {},
   "outputs": [
    {
     "data": {
      "text/plain": [
       "[1, 2]"
      ]
     },
     "execution_count": 10,
     "metadata": {},
     "output_type": "execute_result"
    }
   ],
   "source": [
    "from copy import deepcopy\n",
    "a = [1,2]\n",
    "b = deepcopy(a)\n",
    "b[0] = 3\n",
    "a"
   ]
  },
  {
   "cell_type": "code",
   "execution_count": 9,
   "metadata": {},
   "outputs": [
    {
     "data": {
      "text/plain": [
       "'12'"
      ]
     },
     "execution_count": 9,
     "metadata": {},
     "output_type": "execute_result"
    }
   ],
   "source": [
    "a = \"12\"\n",
    "b = a\n",
    "b += \"3\"\n",
    "a"
   ]
  },
  {
   "cell_type": "code",
   "execution_count": 15,
   "metadata": {},
   "outputs": [
    {
     "data": {
      "text/plain": [
       "[['III', 0.21599999999999997, [-1, 1]],\n",
       " ['XII', 0.144, [-1, 1]],\n",
       " ['IXI', 0.144, [1, 1]],\n",
       " ['XXI', 0.09600000000000002, [1, 1]],\n",
       " ['IIX', 0.144, [-1, -1]],\n",
       " ['XIX', 0.09600000000000002, [-1, -1]],\n",
       " ['IXX', 0.09600000000000002, [1, -1]],\n",
       " ['XXX', 0.06400000000000002, [1, -1]]]"
      ]
     },
     "execution_count": 15,
     "metadata": {},
     "output_type": "execute_result"
    }
   ],
   "source": [
    "gates = randcircuit(3,4)\n",
    "initial = ['000', '100']\n",
    "log = ['XII+', 'ZII+']\n",
    "stabs = ['IZI+', 'IIZ+']\n",
    "\n",
    "codewords = find_codewords(initial, gates)\n",
    "# codewords\n",
    "newstabilizers = (evolve_stabilizers(stabs, gates, log))[0]\n",
    "\n",
    "\n",
    "\n",
    "\n",
    "\n",
    "#make lists of error, prob of error, and stabilizer measurements\n",
    "errors = construct_list_errors(3,3)\n",
    "table = []\n",
    "for error in errors:\n",
    "    errorstate = apply_error_recovery(codewords[0], error)\n",
    "    result = measure_stabilizers(newstabilizers, errorstate)\n",
    "    prob = single_recovery_probability(error, 0.4)\n",
    "    table.append([error, prob, result])\n",
    "table"
   ]
  },
  {
   "cell_type": "code",
   "execution_count": 6,
   "metadata": {},
   "outputs": [
    {
     "data": {
      "text/plain": [
       "['III', 'XII', 'IXI', 'XXI', 'IIX', 'XIX', 'IXX', 'XXX']"
      ]
     },
     "execution_count": 6,
     "metadata": {},
     "output_type": "execute_result"
    }
   ],
   "source": [
    "errors = construct_list_errors(3,3)\n",
    "errors"
   ]
  },
  {
   "cell_type": "code",
   "execution_count": null,
   "metadata": {},
   "outputs": [],
   "source": [
    "\n"
   ]
  },
  {
   "cell_type": "code",
   "execution_count": 24,
   "metadata": {},
   "outputs": [
    {
     "data": {
      "text/plain": [
       "[['III',\n",
       "  <function stabilizer.single_recovery_probability_func.<locals>.<lambda>(p)>,\n",
       "  [1, 1]],\n",
       " ['XII',\n",
       "  <function stabilizer.single_recovery_probability_func.<locals>.<lambda>(p)>,\n",
       "  [1, 1]],\n",
       " ['IXI',\n",
       "  <function stabilizer.single_recovery_probability_func.<locals>.<lambda>(p)>,\n",
       "  [-1, 1]],\n",
       " ['XXI',\n",
       "  <function stabilizer.single_recovery_probability_func.<locals>.<lambda>(p)>,\n",
       "  [-1, 1]],\n",
       " ['IIX',\n",
       "  <function stabilizer.single_recovery_probability_func.<locals>.<lambda>(p)>,\n",
       "  [1, -1]],\n",
       " ['XIX',\n",
       "  <function stabilizer.single_recovery_probability_func.<locals>.<lambda>(p)>,\n",
       "  [1, -1]],\n",
       " ['IXX',\n",
       "  <function stabilizer.single_recovery_probability_func.<locals>.<lambda>(p)>,\n",
       "  [-1, -1]],\n",
       " ['XXX',\n",
       "  <function stabilizer.single_recovery_probability_func.<locals>.<lambda>(p)>,\n",
       "  [-1, -1]]]"
      ]
     },
     "execution_count": 24,
     "metadata": {},
     "output_type": "execute_result"
    }
   ],
   "source": [
    "gates = [('CX', (0, 1)), ('CX', (0, 2))]\n",
    "gates = []\n",
    "initial = ['000', '100']\n",
    "log = ['XII+', 'ZII+']\n",
    "stabs = ['IZI+', 'IIZ+']\n",
    "codewords = find_codewords(initial, gates)\n",
    "newlogs = evolve_operators(log, gates)\n",
    "newstabilizers = evolve_operators(stabs, gates)\n",
    "\n",
    "errors = construct_list_errors(3,3)\n",
    "error_table = []\n",
    "for error in errors:\n",
    "    errorstate = apply_error(codewords[0], error)\n",
    "    result = measure_stabilizers(newstabilizers, errorstate)\n",
    "    prob = single_recovery_probability_func(error)\n",
    "    error_table.append([error, prob, result])\n",
    "error_table"
   ]
  },
  {
   "cell_type": "code",
   "execution_count": 25,
   "metadata": {},
   "outputs": [
    {
     "data": {
      "text/plain": [
       "[('III', 0.7290000000000001, [1, 1]),\n",
       " ('XII', 0.08100000000000002, [1, 1]),\n",
       " ('IXI', 0.08100000000000002, [-1, 1]),\n",
       " ('XXI', 0.009000000000000003, [-1, 1]),\n",
       " ('IIX', 0.08100000000000002, [1, -1]),\n",
       " ('XIX', 0.009000000000000003, [1, -1]),\n",
       " ('IXX', 0.009000000000000003, [-1, -1]),\n",
       " ('XXX', 0.0010000000000000002, [-1, -1])]"
      ]
     },
     "execution_count": 25,
     "metadata": {},
     "output_type": "execute_result"
    }
   ],
   "source": [
    "def get_error_table_values(error_table, p):\n",
    "    error_table_values = []\n",
    "    for error_row in error_table:\n",
    "        error_table_values.append((error_row[0], error_row[1](p), error_row[2]))\n",
    "    return error_table_values\n",
    "get_error_table_values(error_table, 0.1)\n",
    "    "
   ]
  },
  {
   "cell_type": "code",
   "execution_count": 26,
   "metadata": {},
   "outputs": [
    {
     "name": "stdout",
     "output_type": "stream",
     "text": [
      "[('III', 0.06400000000000002, [1, 1]), ('XII', 0.09600000000000002, [1, 1]), ('IXI', 0.09600000000000002, [-1, 1]), ('XXI', 0.144, [-1, 1]), ('IIX', 0.09600000000000002, [1, -1]), ('XIX', 0.144, [1, -1]), ('IXX', 0.144, [-1, -1]), ('XXX', 0.21599999999999997, [-1, -1])]\n",
      "{(1, 1): [0.06400000000000002, 0.09600000000000002], (-1, 1): [0.09600000000000002, 0.144], (1, -1): [0.09600000000000002, 0.144], (-1, -1): [0.144, 0.21599999999999997]}\n"
     ]
    }
   ],
   "source": [
    "physical_error_probs = np.linspace(0.6,1,101)\n",
    "for p in physical_error_probs:\n",
    "    error_table_values = get_error_table_values(error_table, p)\n",
    "    stabs_to_error_probs = {}\n",
    "    for error_row_values in error_table_values:\n",
    "        error_code = error_row_values[0]\n",
    "        error_prob = error_row_values[1]\n",
    "        error_stabs = tuple(error_row_values[2])\n",
    "        if error_stabs not in stabs_to_error_probs:\n",
    "            stabs_to_error_probs[error_stabs] = []\n",
    "\n",
    "        stabs_to_error_probs[error_stabs].append(error_prob)\n",
    "    print(error_table_values)\n",
    "    print(stabs_to_error_probs)\n",
    "    break"
   ]
  },
  {
   "cell_type": "code",
   "execution_count": 27,
   "metadata": {},
   "outputs": [
    {
     "data": {
      "text/plain": [
       "[('III', 0.06400000000000002, [1, 1]),\n",
       " ('XII', 0.09600000000000002, [1, 1]),\n",
       " ('IXI', 0.09600000000000002, [-1, 1]),\n",
       " ('XXI', 0.144, [-1, 1]),\n",
       " ('IIX', 0.09600000000000002, [1, -1]),\n",
       " ('XIX', 0.144, [1, -1]),\n",
       " ('IXX', 0.144, [-1, -1]),\n",
       " ('XXX', 0.21599999999999997, [-1, -1])]"
      ]
     },
     "execution_count": 27,
     "metadata": {},
     "output_type": "execute_result"
    }
   ],
   "source": [
    "error_table_values\n"
   ]
  },
  {
   "cell_type": "code",
   "execution_count": 28,
   "metadata": {},
   "outputs": [
    {
     "data": {
      "text/plain": [
       "{(1, 1): [0.06400000000000002, 0.09600000000000002],\n",
       " (-1, 1): [0.09600000000000002, 0.144],\n",
       " (1, -1): [0.09600000000000002, 0.144],\n",
       " (-1, -1): [0.144, 0.21599999999999997]}"
      ]
     },
     "execution_count": 28,
     "metadata": {},
     "output_type": "execute_result"
    }
   ],
   "source": [
    "stabs_to_error_probs"
   ]
  },
  {
   "cell_type": "code",
   "execution_count": 29,
   "metadata": {},
   "outputs": [
    {
     "ename": "TypeError",
     "evalue": "'tuple' object does not support item assignment",
     "output_type": "error",
     "traceback": [
      "\u001b[0;31m---------------------------------------------------------------------------\u001b[0m",
      "\u001b[0;31mTypeError\u001b[0m                                 Traceback (most recent call last)",
      "\u001b[0;32m<ipython-input-29-538f3a7953cb>\u001b[0m in \u001b[0;36m<module>\u001b[0;34m\u001b[0m\n\u001b[1;32m      1\u001b[0m \u001b[0mhash\u001b[0m\u001b[0;34m(\u001b[0m\u001b[0;34m(\u001b[0m\u001b[0;36m1\u001b[0m\u001b[0;34m,\u001b[0m\u001b[0;36m2\u001b[0m\u001b[0;34m)\u001b[0m\u001b[0;34m)\u001b[0m\u001b[0;34m\u001b[0m\u001b[0;34m\u001b[0m\u001b[0m\n\u001b[1;32m      2\u001b[0m \u001b[0ma\u001b[0m \u001b[0;34m=\u001b[0m \u001b[0;34m(\u001b[0m\u001b[0;36m1\u001b[0m\u001b[0;34m,\u001b[0m\u001b[0;36m2\u001b[0m\u001b[0;34m)\u001b[0m\u001b[0;34m\u001b[0m\u001b[0;34m\u001b[0m\u001b[0m\n\u001b[0;32m----> 3\u001b[0;31m \u001b[0ma\u001b[0m\u001b[0;34m[\u001b[0m\u001b[0;36m0\u001b[0m\u001b[0;34m]\u001b[0m \u001b[0;34m=\u001b[0m \u001b[0;36m3\u001b[0m\u001b[0;34m\u001b[0m\u001b[0;34m\u001b[0m\u001b[0m\n\u001b[0m\u001b[1;32m      4\u001b[0m \u001b[0ma\u001b[0m\u001b[0;34m\u001b[0m\u001b[0;34m\u001b[0m\u001b[0m\n",
      "\u001b[0;31mTypeError\u001b[0m: 'tuple' object does not support item assignment"
     ]
    }
   ],
   "source": [
    "hash((1,2))\n",
    "a = (1,2)\n",
    "a[0] = 3\n",
    "a\n"
   ]
  },
  {
   "cell_type": "code",
   "execution_count": null,
   "metadata": {},
   "outputs": [],
   "source": []
  }
 ],
 "metadata": {
  "kernelspec": {
   "display_name": "qc-env",
   "language": "python",
   "name": "python3"
  },
  "language_info": {
   "codemirror_mode": {
    "name": "ipython",
    "version": 3
   },
   "file_extension": ".py",
   "mimetype": "text/x-python",
   "name": "python",
   "nbconvert_exporter": "python",
   "pygments_lexer": "ipython3",
   "version": "3.8.5"
  }
 },
 "nbformat": 4,
 "nbformat_minor": 2
}
