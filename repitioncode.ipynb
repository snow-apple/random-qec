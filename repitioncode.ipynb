{
 "cells": [
  {
   "cell_type": "code",
   "execution_count": 1,
   "metadata": {},
   "outputs": [
    {
     "name": "stdout",
     "output_type": "stream",
     "text": [
      "                        \n",
      "code_qubit_0: ──■───────\n",
      "                │       \n",
      "code_qubit_1: ──┼────■──\n",
      "              ┌─┴─┐┌─┴─┐\n",
      "link_qubit_0: ┤ X ├┤ X ├\n",
      "              └───┘└───┘\n"
     ]
    }
   ],
   "source": [
    "from qiskit import *\n",
    "cq = QuantumRegister(2,'code_qubit')\n",
    "lq = QuantumRegister(1,'link_qubit')\n",
    "qc = QuantumCircuit(cq,lq)\n",
    "qc.cx(cq[0],lq[0])\n",
    "qc.cx(cq[1],lq[0])\n",
    "print(qc)"
   ]
  },
  {
   "cell_type": "code",
   "execution_count": 2,
   "metadata": {},
   "outputs": [],
   "source": [
    "from qiskit.ignis.verification.topological_codes import RepetitionCode\n",
    "from qiskit.ignis.verification.topological_codes import GraphDecoder\n",
    "from qiskit.ignis.verification.topological_codes import lookuptable_decoding, postselection_decoding"
   ]
  },
  {
   "cell_type": "code",
   "execution_count": 3,
   "metadata": {},
   "outputs": [],
   "source": [
    "d = 3\n",
    "T = 2\n",
    "code = RepetitionCode(d,T)"
   ]
  },
  {
   "cell_type": "code",
   "execution_count": 4,
   "metadata": {},
   "outputs": [
    {
     "data": {
      "text/plain": [
       "{'code_qubit', 'link_qubit'}"
      ]
     },
     "execution_count": 4,
     "metadata": {},
     "output_type": "execute_result"
    }
   ],
   "source": [
    "code.qubit_registers"
   ]
  },
  {
   "cell_type": "code",
   "execution_count": 5,
   "metadata": {},
   "outputs": [
    {
     "data": {
      "text/plain": [
       "QuantumRegister(3, 'code_qubit')"
      ]
     },
     "execution_count": 5,
     "metadata": {},
     "output_type": "execute_result"
    }
   ],
   "source": [
    "code.code_qubit"
   ]
  },
  {
   "cell_type": "code",
   "execution_count": 6,
   "metadata": {},
   "outputs": [
    {
     "name": "stdout",
     "output_type": "stream",
     "text": [
      "\n",
      "========= logical 0 =========\n",
      "\n",
      "                    ┌───┐     ┌───┐     ┌─┐          ┌───┐     ┌───┐        ┌─┐»\n",
      "      link_qubit_0: ┤ X ├─────┤ X ├─────┤M├─|0>──────┤ X ├─────┤ X ├────────┤M├»\n",
      "                    └─┬─┘┌───┐└─┬─┘┌───┐└╥┘ ┌─┐      └─┬─┘┌───┐└─┬─┘┌───┐   └╥┘»\n",
      "      link_qubit_1: ──┼──┤ X ├──┼──┤ X ├─╫──┤M├──|0>───┼──┤ X ├──┼──┤ X ├────╫─»\n",
      "                      │  └─┬─┘  │  └─┬─┘ ║  └╥┘        │  └─┬─┘  │  └─┬─┘┌─┐ ║ »\n",
      "      code_qubit_0: ──■────┼────┼────┼───╫───╫─────────■────┼────┼────┼──┤M├─╫─»\n",
      "                           │    │    │   ║   ║              │    │    │  └╥┘ ║ »\n",
      "      code_qubit_1: ───────■────■────┼───╫───╫──────────────■────■────┼───╫──╫─»\n",
      "                                     │   ║   ║                        │   ║  ║ »\n",
      "      code_qubit_2: ─────────────────■───╫───╫────────────────────────■───╫──╫─»\n",
      "                                         ║   ║                            ║  ║ »\n",
      "round_0_link_bit: 2/═════════════════════╩═══╩════════════════════════════╬══╬═»\n",
      "                                         0   1                            ║  ║ »\n",
      "round_1_link_bit: 2/══════════════════════════════════════════════════════╬══╩═»\n",
      "                                                                          ║  0 »\n",
      "        code_bit: 3/══════════════════════════════════════════════════════╩════»\n",
      "                                                                          0    »\n",
      "«                             \n",
      "«      link_qubit_0: ─────────\n",
      "«                    ┌─┐      \n",
      "«      link_qubit_1: ┤M├──────\n",
      "«                    └╥┘      \n",
      "«      code_qubit_0: ─╫───────\n",
      "«                     ║ ┌─┐   \n",
      "«      code_qubit_1: ─╫─┤M├───\n",
      "«                     ║ └╥┘┌─┐\n",
      "«      code_qubit_2: ─╫──╫─┤M├\n",
      "«                     ║  ║ └╥┘\n",
      "«round_0_link_bit: 2/═╬══╬══╬═\n",
      "«                     ║  ║  ║ \n",
      "«round_1_link_bit: 2/═╩══╬══╬═\n",
      "«                     1  ║  ║ \n",
      "«        code_bit: 3/════╩══╩═\n",
      "«                        1  2 \n",
      "\n",
      "========= logical 1 =========\n",
      "\n",
      "                         ┌───┐     ┌───┐     ┌─┐          ┌───┐     ┌───┐     »\n",
      "      link_qubit_0: ─────┤ X ├─────┤ X ├─────┤M├─|0>──────┤ X ├─────┤ X ├─────»\n",
      "                         └─┬─┘┌───┐└─┬─┘┌───┐└╥┘ ┌─┐      └─┬─┘┌───┐└─┬─┘┌───┐»\n",
      "      link_qubit_1: ───────┼──┤ X ├──┼──┤ X ├─╫──┤M├──|0>───┼──┤ X ├──┼──┤ X ├»\n",
      "                    ┌───┐  │  └─┬─┘  │  └─┬─┘ ║  └╥┘        │  └─┬─┘  │  └─┬─┘»\n",
      "      code_qubit_0: ┤ X ├──■────┼────┼────┼───╫───╫─────────■────┼────┼────┼──»\n",
      "                    ├───┤       │    │    │   ║   ║              │    │    │  »\n",
      "      code_qubit_1: ┤ X ├───────■────■────┼───╫───╫──────────────■────■────┼──»\n",
      "                    ├───┤                 │   ║   ║                        │  »\n",
      "      code_qubit_2: ┤ X ├─────────────────■───╫───╫────────────────────────■──»\n",
      "                    └───┘                     ║   ║                           »\n",
      "round_0_link_bit: 2/══════════════════════════╩═══╩═══════════════════════════»\n",
      "                                              0   1                           »\n",
      "round_1_link_bit: 2/══════════════════════════════════════════════════════════»\n",
      "                                                                              »\n",
      "        code_bit: 3/══════════════════════════════════════════════════════════»\n",
      "                                                                              »\n",
      "«                       ┌─┐         \n",
      "«      link_qubit_0: ───┤M├─────────\n",
      "«                       └╥┘┌─┐      \n",
      "«      link_qubit_1: ────╫─┤M├──────\n",
      "«                    ┌─┐ ║ └╥┘      \n",
      "«      code_qubit_0: ┤M├─╫──╫───────\n",
      "«                    └╥┘ ║  ║ ┌─┐   \n",
      "«      code_qubit_1: ─╫──╫──╫─┤M├───\n",
      "«                     ║  ║  ║ └╥┘┌─┐\n",
      "«      code_qubit_2: ─╫──╫──╫──╫─┤M├\n",
      "«                     ║  ║  ║  ║ └╥┘\n",
      "«round_0_link_bit: 2/═╬══╬══╬══╬══╬═\n",
      "«                     ║  ║  ║  ║  ║ \n",
      "«round_1_link_bit: 2/═╬══╩══╩══╬══╬═\n",
      "«                     ║  0  1  ║  ║ \n",
      "«        code_bit: 3/═╩════════╩══╩═\n",
      "«                     0        1  2 \n"
     ]
    }
   ],
   "source": [
    "for log in ['0','1']:\n",
    "    print('\\n========= logical',log,'=========\\n')\n",
    "    print( code.circuit[log] )"
   ]
  },
  {
   "cell_type": "code",
   "execution_count": 7,
   "metadata": {},
   "outputs": [],
   "source": [
    "empty_code = RepetitionCode(3,0)"
   ]
  },
  {
   "cell_type": "code",
   "execution_count": 8,
   "metadata": {},
   "outputs": [
    {
     "name": "stdout",
     "output_type": "stream",
     "text": [
      "\n",
      "========= logical 0 =========\n",
      "\n",
      "              \n",
      "link_qubit_0: \n",
      "              \n",
      "link_qubit_1: \n",
      "              \n",
      "code_qubit_0: \n",
      "              \n",
      "code_qubit_1: \n",
      "              \n",
      "code_qubit_2: \n",
      "              \n",
      "\n",
      "========= logical 1 =========\n",
      "\n",
      "                   \n",
      "link_qubit_0: ─────\n",
      "                   \n",
      "link_qubit_1: ─────\n",
      "              ┌───┐\n",
      "code_qubit_0: ┤ X ├\n",
      "              ├───┤\n",
      "code_qubit_1: ┤ X ├\n",
      "              ├───┤\n",
      "code_qubit_2: ┤ X ├\n",
      "              └───┘\n"
     ]
    }
   ],
   "source": [
    "def print_circuits(code):\n",
    "    for log in ['0','1']:\n",
    "        print('\\n========= logical',log,'=========\\n')\n",
    "        print( code.circuit[log] )\n",
    "\n",
    "print_circuits(empty_code)"
   ]
  },
  {
   "cell_type": "code",
   "execution_count": 9,
   "metadata": {},
   "outputs": [
    {
     "name": "stdout",
     "output_type": "stream",
     "text": [
      "\n",
      "========= logical 0 =========\n",
      "\n",
      "                    ┌───┐     ┌───┐     ┌─┐          \n",
      "      link_qubit_0: ┤ X ├─────┤ X ├─────┤M├─|0>──────\n",
      "                    └─┬─┘┌───┐└─┬─┘┌───┐└╥┘ ┌─┐      \n",
      "      link_qubit_1: ──┼──┤ X ├──┼──┤ X ├─╫──┤M├──|0>─\n",
      "                      │  └─┬─┘  │  └─┬─┘ ║  └╥┘      \n",
      "      code_qubit_0: ──■────┼────┼────┼───╫───╫───────\n",
      "                           │    │    │   ║   ║       \n",
      "      code_qubit_1: ───────■────■────┼───╫───╫───────\n",
      "                                     │   ║   ║       \n",
      "      code_qubit_2: ─────────────────■───╫───╫───────\n",
      "                                         ║   ║       \n",
      "round_0_link_bit: 2/═════════════════════╩═══╩═══════\n",
      "                                         0   1       \n",
      "\n",
      "========= logical 1 =========\n",
      "\n",
      "                         ┌───┐     ┌───┐     ┌─┐          \n",
      "      link_qubit_0: ─────┤ X ├─────┤ X ├─────┤M├─|0>──────\n",
      "                         └─┬─┘┌───┐└─┬─┘┌───┐└╥┘ ┌─┐      \n",
      "      link_qubit_1: ───────┼──┤ X ├──┼──┤ X ├─╫──┤M├──|0>─\n",
      "                    ┌───┐  │  └─┬─┘  │  └─┬─┘ ║  └╥┘      \n",
      "      code_qubit_0: ┤ X ├──■────┼────┼────┼───╫───╫───────\n",
      "                    ├───┤       │    │    │   ║   ║       \n",
      "      code_qubit_1: ┤ X ├───────■────■────┼───╫───╫───────\n",
      "                    ├───┤                 │   ║   ║       \n",
      "      code_qubit_2: ┤ X ├─────────────────■───╫───╫───────\n",
      "                    └───┘                     ║   ║       \n",
      "round_0_link_bit: 2/══════════════════════════╩═══╩═══════\n",
      "                                              0   1       \n"
     ]
    }
   ],
   "source": [
    "empty_code.syndrome_measurement()\n",
    "print_circuits(empty_code)"
   ]
  },
  {
   "cell_type": "code",
   "execution_count": 10,
   "metadata": {},
   "outputs": [
    {
     "name": "stdout",
     "output_type": "stream",
     "text": [
      "\n",
      "========= logical 0 =========\n",
      "\n",
      "                    ┌───┐     ┌───┐          ┌─┐          \n",
      "      link_qubit_0: ┤ X ├─────┤ X ├──────────┤M├─|0>──────\n",
      "                    └─┬─┘┌───┐└─┬─┘┌───┐     └╥┘ ┌─┐      \n",
      "      link_qubit_1: ──┼──┤ X ├──┼──┤ X ├──────╫──┤M├──|0>─\n",
      "                      │  └─┬─┘  │  └─┬─┘┌───┐ ║  └╥┘      \n",
      "      code_qubit_0: ──■────┼────┼────┼──┤ X ├─╫───╫───────\n",
      "                           │    │    │  ├───┤ ║   ║       \n",
      "      code_qubit_1: ───────■────■────┼──┤ X ├─╫───╫───────\n",
      "                                     │  ├───┤ ║   ║       \n",
      "      code_qubit_2: ─────────────────■──┤ X ├─╫───╫───────\n",
      "                                        └───┘ ║   ║       \n",
      "round_0_link_bit: 2/══════════════════════════╩═══╩═══════\n",
      "                                              0   1       \n",
      "\n",
      "========= logical 1 =========\n",
      "\n",
      "                         ┌───┐     ┌───┐          ┌─┐          \n",
      "      link_qubit_0: ─────┤ X ├─────┤ X ├──────────┤M├─|0>──────\n",
      "                         └─┬─┘┌───┐└─┬─┘┌───┐     └╥┘ ┌─┐      \n",
      "      link_qubit_1: ───────┼──┤ X ├──┼──┤ X ├──────╫──┤M├──|0>─\n",
      "                    ┌───┐  │  └─┬─┘  │  └─┬─┘┌───┐ ║  └╥┘      \n",
      "      code_qubit_0: ┤ X ├──■────┼────┼────┼──┤ X ├─╫───╫───────\n",
      "                    ├───┤       │    │    │  ├───┤ ║   ║       \n",
      "      code_qubit_1: ┤ X ├───────■────■────┼──┤ X ├─╫───╫───────\n",
      "                    ├───┤                 │  ├───┤ ║   ║       \n",
      "      code_qubit_2: ┤ X ├─────────────────■──┤ X ├─╫───╫───────\n",
      "                    └───┘                    └───┘ ║   ║       \n",
      "round_0_link_bit: 2/═══════════════════════════════╩═══╩═══════\n",
      "                                                   0   1       \n"
     ]
    }
   ],
   "source": [
    "empty_code.x()\n",
    "print_circuits(empty_code)"
   ]
  },
  {
   "cell_type": "code",
   "execution_count": 11,
   "metadata": {},
   "outputs": [
    {
     "name": "stdout",
     "output_type": "stream",
     "text": [
      "\n",
      "========= logical 0 =========\n",
      "\n",
      "                    ┌───┐     ┌───┐          ┌─┐                \n",
      "      link_qubit_0: ┤ X ├─────┤ X ├──────────┤M├─|0>────────────\n",
      "                    └─┬─┘┌───┐└─┬─┘┌───┐     └╥┘ ┌─┐            \n",
      "      link_qubit_1: ──┼──┤ X ├──┼──┤ X ├──────╫──┤M├──|0>───────\n",
      "                      │  └─┬─┘  │  └─┬─┘┌───┐ ║  └╥┘  ┌─┐       \n",
      "      code_qubit_0: ──■────┼────┼────┼──┤ X ├─╫───╫───┤M├───────\n",
      "                           │    │    │  ├───┤ ║   ║   └╥┘ ┌─┐   \n",
      "      code_qubit_1: ───────■────■────┼──┤ X ├─╫───╫────╫──┤M├───\n",
      "                                     │  ├───┤ ║   ║    ║  └╥┘┌─┐\n",
      "      code_qubit_2: ─────────────────■──┤ X ├─╫───╫────╫───╫─┤M├\n",
      "                                        └───┘ ║   ║    ║   ║ └╥┘\n",
      "round_0_link_bit: 2/══════════════════════════╩═══╩════╬═══╬══╬═\n",
      "                                              0   1    ║   ║  ║ \n",
      "                                                       ║   ║  ║ \n",
      "        code_bit: 3/═══════════════════════════════════╩═══╩══╩═\n",
      "                                                       0   1  2 \n",
      "\n",
      "========= logical 1 =========\n",
      "\n",
      "                         ┌───┐     ┌───┐          ┌─┐                \n",
      "      link_qubit_0: ─────┤ X ├─────┤ X ├──────────┤M├─|0>────────────\n",
      "                         └─┬─┘┌───┐└─┬─┘┌───┐     └╥┘ ┌─┐            \n",
      "      link_qubit_1: ───────┼──┤ X ├──┼──┤ X ├──────╫──┤M├──|0>───────\n",
      "                    ┌───┐  │  └─┬─┘  │  └─┬─┘┌───┐ ║  └╥┘  ┌─┐       \n",
      "      code_qubit_0: ┤ X ├──■────┼────┼────┼──┤ X ├─╫───╫───┤M├───────\n",
      "                    ├───┤       │    │    │  ├───┤ ║   ║   └╥┘ ┌─┐   \n",
      "      code_qubit_1: ┤ X ├───────■────■────┼──┤ X ├─╫───╫────╫──┤M├───\n",
      "                    ├───┤                 │  ├───┤ ║   ║    ║  └╥┘┌─┐\n",
      "      code_qubit_2: ┤ X ├─────────────────■──┤ X ├─╫───╫────╫───╫─┤M├\n",
      "                    └───┘                    └───┘ ║   ║    ║   ║ └╥┘\n",
      "round_0_link_bit: 2/═══════════════════════════════╩═══╩════╬═══╬══╬═\n",
      "                                                   0   1    ║   ║  ║ \n",
      "                                                            ║   ║  ║ \n",
      "        code_bit: 3/════════════════════════════════════════╩═══╩══╩═\n",
      "                                                            0   1  2 \n"
     ]
    }
   ],
   "source": [
    "empty_code.readout()\n",
    "print_circuits(empty_code)"
   ]
  },
  {
   "cell_type": "code",
   "execution_count": 12,
   "metadata": {},
   "outputs": [
    {
     "name": "stdout",
     "output_type": "stream",
     "text": [
      "\n",
      "========= logical 0 =========\n",
      "\n",
      "{'000 00 00': 1024}\n",
      "\n",
      "========= logical 1 =========\n",
      "\n",
      "{'111 00 00': 1024}\n"
     ]
    }
   ],
   "source": [
    "circuits = code.get_circuit_list()\n",
    "job = execute( circuits, Aer.get_backend('qasm_simulator') )\n",
    "raw_results = {}\n",
    "for log in ['0','1']:\n",
    "    raw_results[log] = job.result().get_counts(log)\n",
    "    print('\\n========= logical',log,'=========\\n')\n",
    "    print(raw_results[log])"
   ]
  },
  {
   "cell_type": "code",
   "execution_count": 13,
   "metadata": {},
   "outputs": [
    {
     "data": {
      "text/plain": [
       "{'0': {'0 0  00 00 00': 1024}, '1': {'1 1  00 00 00': 1024}}"
      ]
     },
     "execution_count": 13,
     "metadata": {},
     "output_type": "execute_result"
    }
   ],
   "source": [
    "code.process_results( raw_results )"
   ]
  },
  {
   "cell_type": "code",
   "execution_count": 14,
   "metadata": {},
   "outputs": [],
   "source": [
    "from qiskit.providers.aer.noise import NoiseModel\n",
    "from qiskit.providers.aer.noise.errors import pauli_error, depolarizing_error\n",
    "\n",
    "def get_noise(p_meas,p_gate):\n",
    "\n",
    "    error_meas = pauli_error([('X',p_meas), ('I', 1 - p_meas)])\n",
    "    error_gate1 = depolarizing_error(p_gate, 1)\n",
    "    error_gate2 = error_gate1.tensor(error_gate1)\n",
    "\n",
    "    noise_model = NoiseModel()\n",
    "    noise_model.add_all_qubit_quantum_error(error_meas, \"measure\")\n",
    "    noise_model.add_all_qubit_quantum_error(error_gate1, [\"u1\", \"u2\", \"u3\"])\n",
    "    noise_model.add_all_qubit_quantum_error(error_gate2, [\"cx\"])\n",
    "\n",
    "    return noise_model"
   ]
  },
  {
   "cell_type": "code",
   "execution_count": 15,
   "metadata": {},
   "outputs": [],
   "source": [
    "\n",
    "noise_model = get_noise(0.04,0.04)"
   ]
  },
  {
   "cell_type": "code",
   "execution_count": 16,
   "metadata": {},
   "outputs": [],
   "source": [
    "def get_syndrome(code,noise_model,shots=1014):\n",
    "\n",
    "    circuits = code.get_circuit_list()\n",
    "\n",
    "    job = execute( circuits, Aer.get_backend('qasm_simulator'),noise_model=noise_model, shots=shots )\n",
    "    raw_results = {}\n",
    "    for log in ['0','1']:\n",
    "        raw_results[log] = job.result().get_counts(log)\n",
    "\n",
    "    return code.process_results( raw_results )"
   ]
  },
  {
   "cell_type": "code",
   "execution_count": 17,
   "metadata": {},
   "outputs": [
    {
     "data": {
      "text/plain": [
       "{'0': {'0 0  00 00 00': 586,\n",
       "  '0 0  01 01 00': 46,\n",
       "  '0 1  00 00 01': 26,\n",
       "  '0 1  10 10 01': 3,\n",
       "  '0 1  00 01 00': 15,\n",
       "  '0 1  01 00 00': 1,\n",
       "  '0 1  10 11 00': 1,\n",
       "  '0 1  00 10 11': 3,\n",
       "  '0 1  00 11 10': 1,\n",
       "  '0 0  10 10 00': 31,\n",
       "  '0 0  00 00 11': 32,\n",
       "  '0 0  01 01 11': 5,\n",
       "  '0 0  10 10 11': 6,\n",
       "  '0 0  00 01 10': 13,\n",
       "  '0 0  01 00 10': 3,\n",
       "  '0 0  10 11 10': 2,\n",
       "  '0 0  00 10 01': 3,\n",
       "  '0 0  01 11 01': 3,\n",
       "  '0 0  00 11 00': 13,\n",
       "  '0 0  01 10 00': 20,\n",
       "  '0 0  11 00 00': 1,\n",
       "  '0 0  11 11 00': 4,\n",
       "  '0 1  00 00 10': 5,\n",
       "  '0 1  01 00 11': 1,\n",
       "  '0 1  00 11 01': 1,\n",
       "  '0 0  00 01 01': 49,\n",
       "  '1 0  00 00 10': 29,\n",
       "  '1 0  01 01 10': 3,\n",
       "  '1 0  10 10 10': 6,\n",
       "  '1 0  00 01 11': 3,\n",
       "  '1 0  01 00 11': 1,\n",
       "  '1 0  00 10 00': 22,\n",
       "  '1 0  01 11 00': 4,\n",
       "  '1 0  10 00 00': 1,\n",
       "  '1 0  00 11 01': 1,\n",
       "  '0 0  01 00 01': 3,\n",
       "  '1 1  00 00 11': 1,\n",
       "  '1 1  01 01 11': 1,\n",
       "  '1 1  00 01 10': 1,\n",
       "  '1 1  00 11 00': 1,\n",
       "  '0 0  10 11 01': 2,\n",
       "  '1 0  00 00 01': 5,\n",
       "  '1 0  00 01 00': 2,\n",
       "  '1 0  00 10 11': 1,\n",
       "  '1 0  00 11 10': 1,\n",
       "  '0 0  00 10 10': 42,\n",
       "  '0 0  01 11 10': 3,\n",
       "  '0 0  10 00 10': 5,\n",
       "  '0 0  00 11 11': 2},\n",
       " '1': {'0 1  00 00 01': 4,\n",
       "  '0 1  00 01 00': 1,\n",
       "  '0 1  10 11 00': 1,\n",
       "  '0 1  00 10 11': 1,\n",
       "  '0 1  01 10 10': 1,\n",
       "  '0 0  00 00 11': 3,\n",
       "  '0 0  00 01 10': 2,\n",
       "  '0 0  00 11 00': 2,\n",
       "  '0 1  00 00 10': 37,\n",
       "  '0 1  01 01 10': 5,\n",
       "  '0 1  10 10 10': 4,\n",
       "  '0 1  00 01 11': 1,\n",
       "  '0 1  00 10 00': 9,\n",
       "  '0 1  01 11 00': 1,\n",
       "  '0 1  00 11 01': 1,\n",
       "  '1 0  00 00 10': 3,\n",
       "  '1 0  10 10 10': 1,\n",
       "  '1 0  00 01 11': 3,\n",
       "  '1 0  01 10 01': 1,\n",
       "  '1 1  00 00 11': 37,\n",
       "  '1 1  01 01 11': 4,\n",
       "  '1 1  10 10 11': 3,\n",
       "  '1 1  00 01 10': 8,\n",
       "  '1 1  11 10 10': 1,\n",
       "  '1 1  00 10 01': 7,\n",
       "  '1 1  01 11 01': 1,\n",
       "  '1 1  10 00 01': 1,\n",
       "  '1 1  00 11 00': 13,\n",
       "  '1 1  01 10 00': 12,\n",
       "  '1 1  10 01 00': 2,\n",
       "  '1 1  11 00 00': 2,\n",
       "  '1 0  00 00 01': 44,\n",
       "  '1 0  01 01 01': 3,\n",
       "  '1 0  10 10 01': 1,\n",
       "  '1 0  00 01 00': 15,\n",
       "  '1 0  10 11 00': 2,\n",
       "  '1 0  00 10 11': 4,\n",
       "  '1 0  10 00 11': 1,\n",
       "  '1 0  00 11 10': 1,\n",
       "  '1 0  01 10 10': 1,\n",
       "  '1 1  00 00 00': 566,\n",
       "  '1 1  01 01 00': 40,\n",
       "  '1 1  10 10 00': 50,\n",
       "  '1 1  11 11 00': 5,\n",
       "  '1 1  00 01 01': 44,\n",
       "  '1 1  01 00 01': 4,\n",
       "  '1 1  10 11 01': 2,\n",
       "  '1 1  00 10 10': 50,\n",
       "  '1 1  01 11 10': 3,\n",
       "  '1 1  10 00 10': 1,\n",
       "  '1 1  11 01 10': 1,\n",
       "  '1 1  00 11 11': 2,\n",
       "  '1 1  01 10 11': 2}}"
      ]
     },
     "execution_count": 17,
     "metadata": {},
     "output_type": "execute_result"
    }
   ],
   "source": [
    "get_syndrome(code,noise_model)"
   ]
  },
  {
   "cell_type": "code",
   "execution_count": 18,
   "metadata": {},
   "outputs": [],
   "source": [
    "dec = GraphDecoder( RepetitionCode(4,2) )"
   ]
  },
  {
   "cell_type": "code",
   "execution_count": 19,
   "metadata": {},
   "outputs": [
    {
     "data": {
      "text/plain": [
       "'1 1'"
      ]
     },
     "execution_count": 19,
     "metadata": {},
     "output_type": "execute_result"
    }
   ],
   "source": [
    "dec.matching('1 0  001 100 100')"
   ]
  },
  {
   "cell_type": "code",
   "execution_count": 20,
   "metadata": {},
   "outputs": [
    {
     "name": "stdout",
     "output_type": "stream",
     "text": [
      "d = 3 ,log = 0\n",
      "logical error probability for matching      = 0.03076171875\n",
      "logical error probability for lookup table  = 0.019775390625\n",
      "logical error probability for postselection = 0.0\n",
      "\n",
      "d = 3 ,log = 1\n",
      "logical error probability for matching      = 0.0308837890625\n",
      "logical error probability for lookup table  = 0.0184326171875\n",
      "logical error probability for postselection = 0.0\n",
      "\n",
      "\n",
      "d = 4 ,log = 0\n",
      "logical error probability for matching      = 0.02001953125\n",
      "logical error probability for lookup table  = 0.010009765625\n",
      "logical error probability for postselection = 0.0\n",
      "\n",
      "d = 4 ,log = 1\n",
      "logical error probability for matching      = 0.0203857421875\n",
      "logical error probability for lookup table  = 0.0108642578125\n",
      "logical error probability for postselection = 0.0\n",
      "\n",
      "\n",
      "d = 5 ,log = 0\n",
      "logical error probability for matching      = 0.0093994140625\n",
      "logical error probability for lookup table  = 0.002197265625\n",
      "logical error probability for postselection = 0.0\n",
      "\n",
      "d = 5 ,log = 1\n",
      "logical error probability for matching      = 0.0101318359375\n",
      "logical error probability for lookup table  = 0.002197265625\n",
      "logical error probability for postselection = 0.0\n",
      "\n",
      "\n",
      "d = 6 ,log = 0\n",
      "logical error probability for matching      = 0.0048828125\n",
      "logical error probability for lookup table  = 0.000244140625\n",
      "logical error probability for postselection = 0.0\n",
      "\n",
      "d = 6 ,log = 1\n",
      "logical error probability for matching      = 0.00537109375\n",
      "logical error probability for lookup table  = 0.000244140625\n",
      "logical error probability for postselection = 0.0\n",
      "\n",
      "\n",
      "d = 7 ,log = 0\n",
      "logical error probability for matching      = 0.0030517578125\n",
      "logical error probability for lookup table  = 0.0\n",
      "logical error probability for postselection = 0.0\n",
      "\n",
      "d = 7 ,log = 1\n",
      "logical error probability for matching      = 0.0032958984375\n",
      "logical error probability for lookup table  = 0.0\n",
      "logical error probability for postselection = 0.0\n",
      "\n",
      "\n"
     ]
    }
   ],
   "source": [
    "for d in range(3,8):\n",
    "\n",
    "    code = RepetitionCode(d,2)\n",
    "\n",
    "    results = get_syndrome(code,noise_model=noise_model,shots=8192)\n",
    "\n",
    "    dec = GraphDecoder(code)\n",
    "\n",
    "    logical_prob_match = dec.get_logical_prob(results)\n",
    "    logical_prob_lookup = lookuptable_decoding(results,results)\n",
    "    logical_prob_post = postselection_decoding(results)\n",
    "\n",
    "    for log in ['0','1']:\n",
    "        print('d =',d,',log =',log)\n",
    "        print('logical error probability for matching      =',logical_prob_match[log])\n",
    "        print('logical error probability for lookup table  =',logical_prob_lookup[log])\n",
    "        print('logical error probability for postselection =',logical_prob_post[log])\n",
    "        print('')\n",
    "    print('')"
   ]
  },
  {
   "cell_type": "code",
   "execution_count": null,
   "metadata": {},
   "outputs": [],
   "source": []
  }
 ],
 "metadata": {
  "kernelspec": {
   "display_name": "qc-env",
   "language": "python",
   "name": "python3"
  },
  "language_info": {
   "codemirror_mode": {
    "name": "ipython",
    "version": 3
   },
   "file_extension": ".py",
   "mimetype": "text/x-python",
   "name": "python",
   "nbconvert_exporter": "python",
   "pygments_lexer": "ipython3",
   "version": "3.8.5"
  },
  "orig_nbformat": 4
 },
 "nbformat": 4,
 "nbformat_minor": 2
}
