{
 "cells": [
  {
   "cell_type": "code",
   "execution_count": 4,
   "metadata": {},
   "outputs": [
    {
     "name": "stdout",
     "output_type": "stream",
     "text": [
      "The autoreload extension is already loaded. To reload it, use:\n",
      "  %reload_ext autoreload\n"
     ]
    }
   ],
   "source": [
    "%load_ext autoreload\n",
    "%autoreload 2"
   ]
  },
  {
   "cell_type": "code",
   "execution_count": 5,
   "metadata": {},
   "outputs": [],
   "source": [
    "import numpy as np \n",
    "from stabilizer import *\n",
    "import matplotlib.pyplot as plt"
   ]
  },
  {
   "cell_type": "code",
   "execution_count": 18,
   "metadata": {},
   "outputs": [
    {
     "name": "stdout",
     "output_type": "stream",
     "text": [
      "['ZZI+', 'ZIZ+'] ['XXX+', 'ZII+'] ['000', '111']\n"
     ]
    },
    {
     "data": {
      "text/plain": [
       "([1, 1], [1, 1])"
      ]
     },
     "execution_count": 18,
     "metadata": {},
     "output_type": "execute_result"
    }
   ],
   "source": [
    "gates = [('CX', (0, 1)), ('CX', (0, 2))]\n",
    "initial = ['000', '100']\n",
    "log = ['XII+', 'ZII+']\n",
    "stabs = ['IZI+', 'IIZ+']\n",
    "codewords = find_codewords(initial, gates)\n",
    "newlogs = evolve_operators(log, gates)\n",
    "new_stabs = evolve_operators(stabs, gates)\n",
    "print(new_stabs, newlogs, codewords)\n",
    "measure_stabilizers(new_stabs, codewords[0]), measure_stabilizers(new_stabs, codewords[1])\n"
   ]
  },
  {
   "cell_type": "code",
   "execution_count": 12,
   "metadata": {},
   "outputs": [
    {
     "data": {
      "text/plain": [
       "[1, -1]"
      ]
     },
     "execution_count": 12,
     "metadata": {},
     "output_type": "execute_result"
    }
   ],
   "source": [
    "errorstate = apply_error(codewords[0], \"IIX\")\n",
    "measure_stabilizers(new_stabs, errorstate)"
   ]
  },
  {
   "cell_type": "code",
   "execution_count": 19,
   "metadata": {},
   "outputs": [
    {
     "data": {
      "text/plain": [
       "[['III',\n",
       "  <function stabilizer.single_recovery_probability_func.<locals>.<lambda>(p)>,\n",
       "  [1, 1]],\n",
       " ['XII',\n",
       "  <function stabilizer.single_recovery_probability_func.<locals>.<lambda>(p)>,\n",
       "  [-1, -1]],\n",
       " ['IXI',\n",
       "  <function stabilizer.single_recovery_probability_func.<locals>.<lambda>(p)>,\n",
       "  [-1, 1]],\n",
       " ['XXI',\n",
       "  <function stabilizer.single_recovery_probability_func.<locals>.<lambda>(p)>,\n",
       "  [1, -1]],\n",
       " ['IIX',\n",
       "  <function stabilizer.single_recovery_probability_func.<locals>.<lambda>(p)>,\n",
       "  [1, -1]],\n",
       " ['XIX',\n",
       "  <function stabilizer.single_recovery_probability_func.<locals>.<lambda>(p)>,\n",
       "  [-1, 1]],\n",
       " ['IXX',\n",
       "  <function stabilizer.single_recovery_probability_func.<locals>.<lambda>(p)>,\n",
       "  [-1, -1]],\n",
       " ['XXX',\n",
       "  <function stabilizer.single_recovery_probability_func.<locals>.<lambda>(p)>,\n",
       "  [1, 1]]]"
      ]
     },
     "execution_count": 19,
     "metadata": {},
     "output_type": "execute_result"
    }
   ],
   "source": [
    "get_error_table(gates, 3)"
   ]
  },
  {
   "cell_type": "code",
   "execution_count": null,
   "metadata": {},
   "outputs": [],
   "source": []
  }
 ],
 "metadata": {
  "kernelspec": {
   "display_name": "qc-env",
   "language": "python",
   "name": "python3"
  },
  "language_info": {
   "codemirror_mode": {
    "name": "ipython",
    "version": 3
   },
   "file_extension": ".py",
   "mimetype": "text/x-python",
   "name": "python",
   "nbconvert_exporter": "python",
   "pygments_lexer": "ipython3",
   "version": "3.8.5"
  }
 },
 "nbformat": 4,
 "nbformat_minor": 2
}
